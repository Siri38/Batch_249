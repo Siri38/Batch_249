{
 "cells": [
  {
   "cell_type": "code",
   "execution_count": null,
   "id": "3ba67de8",
   "metadata": {},
   "outputs": [],
   "source": [
    "Easy: Create a list comprehension that generates a list of squares of numbers from 1 to 10.\n",
    "Output: [1, 4, 9, 16, 25, 36, 49, 64, 81, 100]\n",
    "\n",
    "Medium: Given a list of words, create a list comprehension to filter out words that are longer than 5 characters.\n",
    "Input: ['apple', 'banana', 'cherry', 'date', 'elderberry']\n",
    "Output: ['apple', 'cherry', 'date']\n",
    "\n",
    "Lists:\n",
    "Easy: Create a list containing the numbers 1 to 5 and then append the number 6 to it.\n",
    "Output: [1, 2, 3, 4, 5, 6]\n",
    "\n",
    "Medium: Given two lists, merge them into a single list without duplicates.\n",
    "Input:\n",
    "List 1: [1, 2, 3, 4]\n",
    "List 2: [3, 4, 5, 6]\n",
    "Output: [1, 2, 3, 4, 5, 6]\n",
    "\n",
    "Map:\n",
    "Easy: Use the map function to double each element in a list.\n",
    "Input: [1, 2, 3, 4, 5]\n",
    "Output: [2, 4, 6, 8, 10]\n",
    "\n",
    "Medium: Use the map function to convert a list of strings to uppercase.\n",
    "Input: ['apple', 'banana', 'cherry']\n",
    "Output: ['APPLE', 'BANANA', 'CHERRY']\n",
    "\n",
    "Filter:\n",
    "Easy: Use the filter function to get all even numbers from a list.\n",
    "Input: [1, 2, 3, 4, 5, 6]\n",
    "Output: [2, 4, 6]\n",
    "\n",
    "Medium: Use the filter function to get all words from a list that start with the letter 'b'.\n",
    "Input: ['apple', 'banana', 'cherry', 'blueberry', 'date']\n",
    "Output: ['banana', 'blueberry']\n",
    "\n",
    "Functions:\n",
    "Easy: Write a function called add that takes two numbers as input and returns their sum.\n",
    "Input: add(3, 4)\n",
    "Output: 7\n",
    "\n",
    "Medium: Write a function called calculate_average that takes a list of numbers as input and returns the average (mean) of those numbers.\n",
    "Input: calculate_average([1, 2, 3, 4, 5])\n",
    "Output: 3.0\n",
    "@everyone  no use of ChatGPT u can use google"
   ]
  },
  {
   "cell_type": "code",
   "execution_count": 1,
   "id": "54e345fe",
   "metadata": {},
   "outputs": [
    {
     "name": "stdout",
     "output_type": "stream",
     "text": [
      "[1, 4, 9, 16, 25, 36, 49, 64, 81, 100]\n"
     ]
    }
   ],
   "source": [
    "#Create a list comprehension that generates a list of squares of numbers from 1 to 10.\n",
    "#Output: [1, 4, 9, 16, 25, 36, 49, 64, 81, 100]\n",
    "l1=[1, 4, 9, 16, 25, 36, 49, 64, 81, 100]\n",
    "[i*i for i in l1]\n",
    "print(l1)\n"
   ]
  },
  {
   "cell_type": "code",
   "execution_count": 7,
   "id": "873e74c9",
   "metadata": {},
   "outputs": [
    {
     "name": "stdout",
     "output_type": "stream",
     "text": [
      "['apple', 'date']\n"
     ]
    }
   ],
   "source": [
    "#Given a list of words, create a list comprehension to filter out words that are longer than 5 characters.\n",
    "l1=['apple', 'banana', 'cherry', 'date', 'elderberry']\n",
    "new_list=[i for i in l1 if len(i) <= 5]\n",
    "print(new_list)\n",
    "\n"
   ]
  },
  {
   "cell_type": "code",
   "execution_count": 11,
   "id": "88960e11",
   "metadata": {},
   "outputs": [
    {
     "name": "stdout",
     "output_type": "stream",
     "text": [
      "[1, 2, 3, 4, 5, 6]\n"
     ]
    }
   ],
   "source": [
    "#Create a list containing the numbers 1 to 5 and then append the number 6 to it.\n",
    "\n",
    "lst=[1,2,3,4,5]\n",
    "lst.append(6)\n",
    "print(lst)\n",
    "\n",
    "\n",
    "\n",
    "#Output: [1, 2, 3, 4, 5, 6]"
   ]
  },
  {
   "cell_type": "code",
   "execution_count": null,
   "id": "189ae261",
   "metadata": {},
   "outputs": [],
   "source": [
    "# Given two lists, merge them into a single list without duplicates.\n",
    "Input:\n",
    "List 1: [1, 2, 3, 4]\n",
    "List 2: [3, 4, 5, 6]\n",
    "Output: [1, 2, 3, 4, 5, 6]\n"
   ]
  },
  {
   "cell_type": "code",
   "execution_count": 17,
   "id": "5051b30c",
   "metadata": {},
   "outputs": [
    {
     "data": {
      "text/plain": [
       "[1, 2, 3, 4, 5, 6]"
      ]
     },
     "execution_count": 17,
     "metadata": {},
     "output_type": "execute_result"
    }
   ],
   "source": [
    "list1=[1,2,3,4]\n",
    "list2=[3,4,5,6]\n",
    "n_l=list1+list2\n",
    "n_l1=set(n_l)\n",
    "list(n_l1)"
   ]
  },
  {
   "cell_type": "code",
   "execution_count": null,
   "id": "95b5e79f",
   "metadata": {},
   "outputs": [],
   "source": [
    "Easy: Use the map function to double each element in a list.\n",
    "Input: [1, 2, 3, 4, 5]\n",
    "Output: [2, 4, 6, 8, 10]"
   ]
  },
  {
   "cell_type": "code",
   "execution_count": 21,
   "id": "273e1dcb",
   "metadata": {},
   "outputs": [
    {
     "data": {
      "text/plain": [
       "[2, 4, 6, 8, 10]"
      ]
     },
     "execution_count": 21,
     "metadata": {},
     "output_type": "execute_result"
    }
   ],
   "source": [
    "\n",
    "lst=[1,2,3,4,5]\n",
    "def square (a):\n",
    "    return a*2\n",
    "\n",
    "list(map(square,lst))"
   ]
  },
  {
   "cell_type": "code",
   "execution_count": null,
   "id": "688a499c",
   "metadata": {},
   "outputs": [],
   "source": []
  },
  {
   "cell_type": "code",
   "execution_count": 27,
   "id": "45f20f77",
   "metadata": {},
   "outputs": [
    {
     "data": {
      "text/plain": [
       "['APPLE', 'BANANA', 'CHERRY']"
      ]
     },
     "execution_count": 27,
     "metadata": {},
     "output_type": "execute_result"
    }
   ],
   "source": [
    "lst=['apple', 'banana', 'cherry']\n",
    "list(map(str.upper,lst))\n"
   ]
  },
  {
   "cell_type": "code",
   "execution_count": null,
   "id": "2e24c117",
   "metadata": {},
   "outputs": [],
   "source": [
    "Use the filter function to get all even numbers from a list.\n",
    "lst: [1, 2, 3, 4, 5, 6]\n",
    "Output: [2, 4, 6]"
   ]
  },
  {
   "cell_type": "code",
   "execution_count": 31,
   "id": "336b4df5",
   "metadata": {},
   "outputs": [
    {
     "name": "stdout",
     "output_type": "stream",
     "text": [
      "[2, 4, 6]\n"
     ]
    }
   ],
   "source": [
    "lst=[1,2,3,4,5,6]\n",
    "new_lst=list(filter(lambda x:x%2==0,lst))\n",
    "print(new_lst)"
   ]
  },
  {
   "cell_type": "code",
   "execution_count": null,
   "id": "390e8ff1",
   "metadata": {},
   "outputs": [],
   "source": [
    " Use the filter function to get all words from a list that start with the letter 'b'.\n",
    "Input: ['apple', 'banana', 'cherry', 'blueberry', 'date']\n",
    "Output: ['banana', 'blueberry']"
   ]
  },
  {
   "cell_type": "code",
   "execution_count": 34,
   "id": "f8aa8db5",
   "metadata": {},
   "outputs": [
    {
     "name": "stdout",
     "output_type": "stream",
     "text": [
      "['banana', 'blueberry']\n"
     ]
    }
   ],
   "source": [
    "str= ['apple', 'banana', 'cherry', 'blueberry', 'date']\n",
    "new_lst=list(filter(lambda x:x[0]=='b',str))\n",
    "print(new_lst)"
   ]
  },
  {
   "cell_type": "code",
   "execution_count": null,
   "id": "60d96f0e",
   "metadata": {},
   "outputs": [],
   "source": [
    "Write a function called add that takes two numbers as input and returns their sum.\n",
    "Input: add(3, 4)\n",
    "Output: 7"
   ]
  },
  {
   "cell_type": "code",
   "execution_count": 35,
   "id": "f108823d",
   "metadata": {},
   "outputs": [],
   "source": [
    "def add(x,y):\n",
    "    return(x+y)"
   ]
  },
  {
   "cell_type": "code",
   "execution_count": 36,
   "id": "8f0eadc2",
   "metadata": {},
   "outputs": [
    {
     "data": {
      "text/plain": [
       "7"
      ]
     },
     "execution_count": 36,
     "metadata": {},
     "output_type": "execute_result"
    }
   ],
   "source": [
    "add(3,4)"
   ]
  },
  {
   "cell_type": "code",
   "execution_count": null,
   "id": "2412920c",
   "metadata": {},
   "outputs": [],
   "source": [
    "Write a function called calculate_average that takes a list of numbers as input and returns the average (mean) of those numbers.\n",
    "Input: calculate_average([1, 2, 3, 4, 5])\n",
    "Output: 3.0"
   ]
  },
  {
   "cell_type": "code",
   "execution_count": 57,
   "id": "e0f535d6",
   "metadata": {},
   "outputs": [],
   "source": [
    "#def calculate_average(a,b,c,d,e):\n",
    "    #average = (a+b+c+d+e)/5\n",
    "    #return average\n",
    "def calculate_average(numbers):\n",
    "    total=sum(numbers)\n",
    "    avg=total/len(numbers)\n",
    "    return avg"
   ]
  },
  {
   "cell_type": "code",
   "execution_count": 60,
   "id": "f9151c67",
   "metadata": {},
   "outputs": [
    {
     "data": {
      "text/plain": [
       "3.0"
      ]
     },
     "execution_count": 60,
     "metadata": {},
     "output_type": "execute_result"
    }
   ],
   "source": [
    "calculate_average([1,2,3,4,5])"
   ]
  },
  {
   "cell_type": "code",
   "execution_count": null,
   "id": "6257ca87",
   "metadata": {},
   "outputs": [],
   "source": []
  }
 ],
 "metadata": {
  "kernelspec": {
   "display_name": "Python 3 (ipykernel)",
   "language": "python",
   "name": "python3"
  },
  "language_info": {
   "codemirror_mode": {
    "name": "ipython",
    "version": 3
   },
   "file_extension": ".py",
   "mimetype": "text/x-python",
   "name": "python",
   "nbconvert_exporter": "python",
   "pygments_lexer": "ipython3",
   "version": "3.9.13"
  }
 },
 "nbformat": 4,
 "nbformat_minor": 5
}
